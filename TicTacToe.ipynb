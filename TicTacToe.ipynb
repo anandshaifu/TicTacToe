{
 "cells": [
  {
   "cell_type": "code",
   "execution_count": 12,
   "metadata": {},
   "outputs": [],
   "source": [
    "# function to define the board\n",
    "\n",
    "def board():\n",
    "        print(a[1] +' | '+ a[2] +' | '+ a[3])\n",
    "        print('--+---+--')\n",
    "        print(a[4] +' | '+ a[5] +' | '+ a[6])\n",
    "        print('--+---+--')\n",
    "        print(a[7] +' | '+ a[8] +' | '+ a[9])"
   ]
  },
  {
   "cell_type": "code",
   "execution_count": 8,
   "metadata": {},
   "outputs": [],
   "source": [
    "# function to check the various possibilities\n",
    "\n",
    "def check():\n",
    "        x = ('X','X','X')\n",
    "        y = ('O','O','O')\n",
    "        z1 = (a[1],a[2],a[3])\n",
    "        z2 = (a[4],a[5],a[6])\n",
    "        z3 = (a[7],a[8],a[9])\n",
    "        z4 = (a[1],a[4],a[7])\n",
    "        z5 = (a[2],a[5],a[8])\n",
    "        z6 = (a[3],a[6],a[9])\n",
    "        z7 = (a[1],a[5],a[9])\n",
    "        z8 = (a[3],a[5],a[7])\n",
    "        z9 = (z1,z2,z3,z4,z5,z6,z7,z8)\n",
    "        if x in z9:\n",
    "            return 1\n",
    "        elif y in z9:\n",
    "            return 2"
   ]
  },
  {
   "cell_type": "code",
   "execution_count": 13,
   "metadata": {},
   "outputs": [],
   "source": [
    "# main function to control the flow of the game\n",
    "\n",
    "def user_input(): \n",
    "    test = ['#']\n",
    "    length = 0\n",
    "    while length <= 8:\n",
    "         u1 = input(\"Enter user 1...\")\n",
    "         if u1 in test or u1 == '0':    \n",
    "            print(\"Wrong...\")\n",
    "            u1 = input(\"Enter user 1...\")\n",
    "            test.append(u1)\n",
    "            a[int(u1)] = 'X'\n",
    "            board()\n",
    "            if check() == 1:\n",
    "                print(\"Player 1 wins...\")\n",
    "                break\n",
    "         else:       \n",
    "            test.append(u1)\n",
    "            a[int(u1)] = 'X'\n",
    "            board()\n",
    "            if check() == 1:\n",
    "                print(\"Player 1 wins...\")\n",
    "                break\n",
    "         length += 1\n",
    "         if length >= 8:\n",
    "                break\n",
    "         u2 = input(\"Enter user 2...\")\n",
    "         if u2 in test or u2 == '0':\n",
    "            print(\"Wrong...\")\n",
    "            u2 = input(\"Enter user 2...\")\n",
    "            test.append(u2)\n",
    "            a[int(u2)] = 'O'\n",
    "            board()\n",
    "            if check() == 2:\n",
    "                print(\"Player 2 wins...\")\n",
    "                break\n",
    "         else:\n",
    "            test.append(u2)\n",
    "            a[int(u2)] = 'O'\n",
    "            board()\n",
    "            if check() == 2:\n",
    "                print(\"Player 2 wins...\")\n",
    "         length += 1"
   ]
  },
  {
   "cell_type": "code",
   "execution_count": 19,
   "metadata": {},
   "outputs": [
    {
     "name": "stdin",
     "output_type": "stream",
     "text": [
      "Enter user 1... 1\n"
     ]
    },
    {
     "name": "stdout",
     "output_type": "stream",
     "text": [
      "X |   |  \n",
      "--+---+--\n",
      "  |   |  \n",
      "--+---+--\n",
      "  |   |  \n"
     ]
    },
    {
     "name": "stdin",
     "output_type": "stream",
     "text": [
      "Enter user 2... 9\n"
     ]
    },
    {
     "name": "stdout",
     "output_type": "stream",
     "text": [
      "X |   |  \n",
      "--+---+--\n",
      "  |   |  \n",
      "--+---+--\n",
      "  |   | O\n"
     ]
    },
    {
     "name": "stdin",
     "output_type": "stream",
     "text": [
      "Enter user 1... 2\n"
     ]
    },
    {
     "name": "stdout",
     "output_type": "stream",
     "text": [
      "X | X |  \n",
      "--+---+--\n",
      "  |   |  \n",
      "--+---+--\n",
      "  |   | O\n"
     ]
    },
    {
     "name": "stdin",
     "output_type": "stream",
     "text": [
      "Enter user 2... 8\n"
     ]
    },
    {
     "name": "stdout",
     "output_type": "stream",
     "text": [
      "X | X |  \n",
      "--+---+--\n",
      "  |   |  \n",
      "--+---+--\n",
      "  | O | O\n"
     ]
    },
    {
     "name": "stdin",
     "output_type": "stream",
     "text": [
      "Enter user 1... 3\n"
     ]
    },
    {
     "name": "stdout",
     "output_type": "stream",
     "text": [
      "X | X | X\n",
      "--+---+--\n",
      "  |   |  \n",
      "--+---+--\n",
      "  | O | O\n",
      "Player 1 wins...\n"
     ]
    },
    {
     "name": "stdin",
     "output_type": "stream",
     "text": [
      "Do u want to play again..?? Y/N n\n"
     ]
    },
    {
     "name": "stdout",
     "output_type": "stream",
     "text": [
      "Game Over..\n"
     ]
    }
   ],
   "source": [
    "while True:\n",
    "    \n",
    "    print(\"Welcome to the game...\")\n",
    "    print(\"Player 1 is 'X'\")\n",
    "    print(\"Player 2 is '0'\")\n",
    "    print(\"Best of luck..\")\n",
    "    \n",
    "    u1 = ''\n",
    "    u2 = ''\n",
    "    a = ['#',' ',' ',' ',' ',' ',' ',' ',' ',' ']\n",
    "    \n",
    "    # function call for the user input\n",
    "    \n",
    "    user_input()\n",
    "    \n",
    "    new_game = input(\"Do u want to play again..?? Y/N\")\n",
    "    if new_game[0].lower() == 'y':\n",
    "        play = True\n",
    "    else:\n",
    "        print(\"Game Over..\")\n",
    "        play = False\n",
    "        break"
   ]
  },
  {
   "cell_type": "code",
   "execution_count": null,
   "metadata": {},
   "outputs": [],
   "source": []
  }
 ],
 "metadata": {
  "kernelspec": {
   "display_name": "Python 3",
   "language": "python",
   "name": "python3"
  },
  "language_info": {
   "codemirror_mode": {
    "name": "ipython",
    "version": 3
   },
   "file_extension": ".py",
   "mimetype": "text/x-python",
   "name": "python",
   "nbconvert_exporter": "python",
   "pygments_lexer": "ipython3",
   "version": "3.7.0"
  }
 },
 "nbformat": 4,
 "nbformat_minor": 2
}
